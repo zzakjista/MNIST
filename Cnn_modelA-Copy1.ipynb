{
 "cells": [
  {
   "cell_type": "code",
   "execution_count": 1,
   "id": "48a6a6a6",
   "metadata": {},
   "outputs": [],
   "source": [
    "import pandas as pd \n",
    "import numpy as np\n",
    "import math\n",
    "from PIL import Image\n",
    "from keras import backend as K\n",
    "from keras.models import Sequential\n",
    "from keras.layers.convolutional import *\n",
    "from keras.callbacks import EarlyStopping\n",
    "from keras.utils.np_utils import to_categorical\n",
    "from keras.layers import Dropout, Dense, Flatten, Activation, Conv2D, MaxPool2D, BatchNormalization\n",
    "import matplotlib.pyplot as plt\n",
    "%matplotlib inline\n",
    "from sklearn.model_selection import train_test_split\n",
    "from keras.utils.np_utils import to_categorical\n",
    "from keras.models import Sequential\n",
    "from keras.layers import Input, Dense, Dropout, Flatten, Conv2D, MaxPool2D, BatchNormalization\n",
    "from keras.optimizers import Adam\n",
    "from keras.preprocessing.image import ImageDataGenerator\n",
    "from keras.callbacks import LearningRateScheduler\n",
    "from tensorflow.keras.models import Model\n",
    "import tensorflow as tf"
   ]
  },
  {
   "cell_type": "code",
   "execution_count": 2,
   "id": "2b6aad74",
   "metadata": {},
   "outputs": [],
   "source": [
    "train = pd.read_csv('MNIST_data/train.csv')\n",
    "test = pd.read_csv('MNIST_data/test.csv')\n",
    "label = train.pop('label')"
   ]
  },
  {
   "cell_type": "code",
   "execution_count": 3,
   "id": "cada321d",
   "metadata": {
    "scrolled": true
   },
   "outputs": [
    {
     "name": "stdout",
     "output_type": "stream",
     "text": [
      "train dimension: (42000, 784)\n",
      "test dimension: (28000, 784)\n"
     ]
    }
   ],
   "source": [
    "print(\"train dimension:\", train.shape)\n",
    "print(\"test dimension:\", test.shape)"
   ]
  },
  {
   "cell_type": "markdown",
   "id": "f1bba8f5",
   "metadata": {},
   "source": [
    "## Preprocessing"
   ]
  },
  {
   "cell_type": "code",
   "execution_count": 4,
   "id": "16ebb7f9",
   "metadata": {
    "scrolled": true
   },
   "outputs": [],
   "source": [
    "#전처리 클래스 생성\n",
    "class PreprocessData:\n",
    "    def __init__(self, valid_size, random_state, scaling=False):\n",
    "        self.valid_size = valid_size\n",
    "        self.random_state = random_state\n",
    "        self.scaling = scaling\n",
    "    def load_datasets(self):\n",
    "        (train_images, train_labels), (test_images,test_labels) = cifar10.load_data()\n",
    "        \n",
    "    def scaled_pixels(self,images,labels):\n",
    "        if self.scaling: #scaling이 True일 경우\n",
    "            images = np.array(images / 255.0, dtype=np.float32)\n",
    "        else:\n",
    "            images = np.array(images,dtype=np.float32)\n",
    "        labels = np.array(labels, dtype=np.float32)\n",
    "        return images, labels\n",
    "    \n",
    "    def transform_ohe(self,labels):\n",
    "        ohe_labels = to_categorical(labels)\n",
    "        return ohe_labels\n",
    "    \n",
    "    def split_train_valid(self,train_images, train_ohe_labels,train_labels): #훈련데이터에서 검증데이터 추출\n",
    "        tr_images, val_images, tr_ohe_labels, val_ohe_labels,tr_labels,val_labels = train_test_split(train_images,\n",
    "                                                                               train_ohe_labels,train_labels, test_size=self.valid_size,\n",
    "                                                                               random_state = self.random_state)\n",
    "        return tr_images, val_images, tr_ohe_labels, val_ohe_labels, tr_labels,val_labels\n",
    "    def preprocess_data(self):\n",
    "        train_images,train_labels,test_images = train, label, test\n",
    "        \n",
    "        train_images, train_labels = self.scaled_pixels(train_images,train_labels)\n",
    "        \n",
    "        \n",
    "        train_ohe_labels = self.transform_ohe(train_labels)\n",
    "        \n",
    "        \n",
    "        tr_images,  val_images, tr_ohe_labels, val_ohe_labels ,tr_labels,val_labels = self.split_train_valid(train_images,train_ohe_labels,train_labels)\n",
    "        \n",
    "        \n",
    "        tr_images = tr_images.reshape(-1,28,28,1)\n",
    "        val_images = val_images.reshape(-1,28,28,1)\n",
    "        test_images = test_images.values.reshape(-1,28,28,1)\n",
    "        print('Train:' ,tr_images.shape,tr_labels.shape, tr_ohe_labels.shape)\n",
    "        print('Valid:', val_images.shape, val_ohe_labels.shape)\n",
    "        print('Test:' ,test_images.shape)\n",
    "        print\n",
    "        return tr_images, tr_ohe_labels, val_images, val_ohe_labels, test_images,tr_labels,val_labels\n"
   ]
  },
  {
   "cell_type": "code",
   "execution_count": 5,
   "id": "0037e26c",
   "metadata": {},
   "outputs": [
    {
     "name": "stdout",
     "output_type": "stream",
     "text": [
      "Train: (29400, 28, 28, 1) (29400,) (29400, 10)\n",
      "Valid: (12600, 28, 28, 1) (12600, 10)\n",
      "Test: (28000, 28, 28, 1)\n"
     ]
    }
   ],
   "source": [
    "tr_images, tr_ohe_labels, val_images, val_ohe_labels, test_images,tr_labels,val_labels  = PreprocessData(0.3,42,scaling=True).preprocess_data()"
   ]
  },
  {
   "cell_type": "markdown",
   "id": "119807f2",
   "metadata": {},
   "source": [
    "## Modeling"
   ]
  },
  {
   "cell_type": "code",
   "execution_count": 53,
   "id": "99516e83",
   "metadata": {},
   "outputs": [],
   "source": [
    "early_stopping = EarlyStopping(monitor='val_acc', patience=1)\n",
    "model.fit(x_train, to_categorical(Y_train), batch_size = 128, nb_epoch=100, verbose = 2, validation_split = .2)\n",
    "yPred = model.predict_classes(x_valid,batch_size=32,verbose=1)\n",
    "np.savetxt('mnist_output.csv', np.c_[range(1,len(yPred)+1),yPred], delimiter=',', header = 'ImageId,Label', comments = '', fmt='%d')"
   ]
  },
  {
   "cell_type": "code",
   "execution_count": 7,
   "id": "8f109fdf",
   "metadata": {},
   "outputs": [],
   "source": [
    "#CNN Modeling 클래스 생성\n",
    "class CnnModel:\n",
    "    input_size = 32\n",
    "    @classmethod\n",
    "    def change_input_size(cls,input_size):\n",
    "        CnnModel.input_size = input_size\n",
    "    \n",
    "    @staticmethod\n",
    "    def create_model(verbose=True):\n",
    "        size = CnnModel.input_size\n",
    "        input_tensor = Input(shape=(size,size,1)) #왜 3차원인지 생각해보자   \n",
    "        x = Conv2D(filters=32, kernel_size=3, padding='same', kernel_initializer='he_normal', activation='relu')(\n",
    "                    input_tensor)\n",
    "        x = Conv2D(filters=32, kernel_size=3, padding='same', kernel_initializer='he_normal')(x)\n",
    "        x = BatchNormalization()(x)\n",
    "        x = Activation('relu')(x)\n",
    "        x = MaxPooling2D(pool_size=2)(x)\n",
    "\n",
    "        x = Conv2D(filters=64, kernel_size=3, padding='same',kernel_initializer='he_normal',activation='relu')(x)\n",
    "        x = Conv2D(filters=64, kernel_size=3, padding='same',kernel_initializer='he_normal')(x)\n",
    "        x = BatchNormalization()(x)\n",
    "        x = Activation('relu')(x)\n",
    "        x = MaxPooling2D(pool_size=2)(x)\n",
    "\n",
    "        x = Conv2D(filters=128, kernel_size=3, padding='valid', kernel_initializer='he_normal',activation='relu')(x)\n",
    "        x = Conv2D(filters=128, kernel_size=3, padding='same', kernel_initializer='he_normal')(x)\n",
    "        x = BatchNormalization()(x)\n",
    "        x = Activation('relu')(x)\n",
    "        x = MaxPooling2D(pool_size=2)(x)\n",
    "\n",
    "        x = Conv2D(filters=256, kernel_size=3, strides=2, padding='same', kernel_initializer='he_normal')(x)\n",
    "        x = BatchNormalization()(x)\n",
    "        x = Activation('relu')(x)\n",
    "\n",
    "        x = Flatten()(x)\n",
    "        x = Dropout(rate=0.4)(x)\n",
    "        x = Dense(units=256, kernel_initializer='he_normal', activation='relu')(x)\n",
    "        x = Dropout(rate=0.3)(x)\n",
    "        x = Dense(units=64, kernel_initializer='he_normal', activation='relu')(x)\n",
    "        output = Dense(units=10, activation='softmax')(x)\n",
    "\n",
    "        model = Model(inputs=input_tensor, outputs=output)\n",
    "\n",
    "        if verbose:\n",
    "            model.summary()\n",
    "\n",
    "        return model"
   ]
  },
  {
   "cell_type": "code",
   "execution_count": 12,
   "id": "a2e13f74",
   "metadata": {},
   "outputs": [
    {
     "name": "stdout",
     "output_type": "stream",
     "text": [
      "28\n"
     ]
    }
   ],
   "source": [
    "CnnModel.change_input_size(input_size=28)\n",
    "print(CnnModel().input_size)"
   ]
  },
  {
   "cell_type": "code",
   "execution_count": 13,
   "id": "a6901d94",
   "metadata": {
    "collapsed": true
   },
   "outputs": [
    {
     "name": "stdout",
     "output_type": "stream",
     "text": [
      "Model: \"model_1\"\n",
      "_________________________________________________________________\n",
      " Layer (type)                Output Shape              Param #   \n",
      "=================================================================\n",
      " input_2 (InputLayer)        [(None, 28, 28, 1)]       0         \n",
      "                                                                 \n",
      " conv2d_7 (Conv2D)           (None, 28, 28, 32)        320       \n",
      "                                                                 \n",
      " conv2d_8 (Conv2D)           (None, 28, 28, 32)        9248      \n",
      "                                                                 \n",
      " batch_normalization_4 (Batc  (None, 28, 28, 32)       128       \n",
      " hNormalization)                                                 \n",
      "                                                                 \n",
      " activation_4 (Activation)   (None, 28, 28, 32)        0         \n",
      "                                                                 \n",
      " max_pooling2d_3 (MaxPooling  (None, 14, 14, 32)       0         \n",
      " 2D)                                                             \n",
      "                                                                 \n",
      " conv2d_9 (Conv2D)           (None, 14, 14, 64)        18496     \n",
      "                                                                 \n",
      " conv2d_10 (Conv2D)          (None, 14, 14, 64)        36928     \n",
      "                                                                 \n",
      " batch_normalization_5 (Batc  (None, 14, 14, 64)       256       \n",
      " hNormalization)                                                 \n",
      "                                                                 \n",
      " activation_5 (Activation)   (None, 14, 14, 64)        0         \n",
      "                                                                 \n",
      " max_pooling2d_4 (MaxPooling  (None, 7, 7, 64)         0         \n",
      " 2D)                                                             \n",
      "                                                                 \n",
      " conv2d_11 (Conv2D)          (None, 5, 5, 128)         73856     \n",
      "                                                                 \n",
      " conv2d_12 (Conv2D)          (None, 5, 5, 128)         147584    \n",
      "                                                                 \n",
      " batch_normalization_6 (Batc  (None, 5, 5, 128)        512       \n",
      " hNormalization)                                                 \n",
      "                                                                 \n",
      " activation_6 (Activation)   (None, 5, 5, 128)         0         \n",
      "                                                                 \n",
      " max_pooling2d_5 (MaxPooling  (None, 2, 2, 128)        0         \n",
      " 2D)                                                             \n",
      "                                                                 \n",
      " conv2d_13 (Conv2D)          (None, 1, 1, 256)         295168    \n",
      "                                                                 \n",
      " batch_normalization_7 (Batc  (None, 1, 1, 256)        1024      \n",
      " hNormalization)                                                 \n",
      "                                                                 \n",
      " activation_7 (Activation)   (None, 1, 1, 256)         0         \n",
      "                                                                 \n",
      " flatten_1 (Flatten)         (None, 256)               0         \n",
      "                                                                 \n",
      " dropout_2 (Dropout)         (None, 256)               0         \n",
      "                                                                 \n",
      " dense_3 (Dense)             (None, 256)               65792     \n",
      "                                                                 \n",
      " dropout_3 (Dropout)         (None, 256)               0         \n",
      "                                                                 \n",
      " dense_4 (Dense)             (None, 64)                16448     \n",
      "                                                                 \n",
      " dense_5 (Dense)             (None, 10)                650       \n",
      "                                                                 \n",
      "=================================================================\n",
      "Total params: 666,410\n",
      "Trainable params: 665,450\n",
      "Non-trainable params: 960\n",
      "_________________________________________________________________\n"
     ]
    }
   ],
   "source": [
    "model = CnnModel.create_model()"
   ]
  },
  {
   "cell_type": "code",
   "execution_count": 25,
   "id": "40a38ef2",
   "metadata": {
    "scrolled": true
   },
   "outputs": [
    {
     "name": "stdout",
     "output_type": "stream",
     "text": [
      "Epoch 1/3\n",
      "919/919 [==============================] - 229s 246ms/step - loss: 0.0512 - accuracy: 0.9861 - val_loss: 0.0399 - val_accuracy: 0.9896\n",
      "Epoch 2/3\n",
      "919/919 [==============================] - 210s 229ms/step - loss: 0.0429 - accuracy: 0.9871 - val_loss: 0.0434 - val_accuracy: 0.9887\n",
      "Epoch 3/3\n",
      "919/919 [==============================] - 229s 249ms/step - loss: 0.0362 - accuracy: 0.9902 - val_loss: 0.0512 - val_accuracy: 0.9872\n"
     ]
    }
   ],
   "source": [
    "model.compile(optimizer='adam',loss=tf.keras.losses.SparseCategoricalCrossentropy(),metrics=['accuracy'])\n",
    "history=model.fit(tr_images,tr_labels,epochs=3,validation_data=(val_images, val_labels),\n",
    "                  batch_size=None)"
   ]
  },
  {
   "cell_type": "code",
   "execution_count": 27,
   "id": "517ce6c8",
   "metadata": {},
   "outputs": [
    {
     "name": "stdout",
     "output_type": "stream",
     "text": [
      "875/875 [==============================] - 50s 57ms/step\n"
     ]
    }
   ],
   "source": [
    "predictions = np.argmax(model.predict(test_images), axis=1)"
   ]
  },
  {
   "cell_type": "code",
   "execution_count": 26,
   "id": "43874854",
   "metadata": {},
   "outputs": [
    {
     "name": "stdout",
     "output_type": "stream",
     "text": [
      "394/394 - 18s - loss: 0.0512 - accuracy: 0.9872 - 18s/epoch - 45ms/step\n"
     ]
    },
    {
     "data": {
      "image/png": "[encoded data removed]",
      "text/plain": [
       "<Figure size 432x288 with 1 Axes>"
      ]
     },
     "metadata": {
      "needs_background": "light"
     },
     "output_type": "display_data"
    }
   ],
   "source": [
    "#Access Model\n",
    "plt.plot(history.history['accuracy'], label='accuracy')\n",
    "plt.plot(history.history['val_accuracy'], label = 'val_accuracy')\n",
    "plt.xlabel('Epoch')\n",
    "plt.ylabel('Accuracy')\n",
    "plt.ylim([0.5, 1])\n",
    "plt.legend(loc='lower right')\n",
    "\n",
    "test_loss, test_acc = model.evaluate(val_images,  val_labels, verbose=2)"
   ]
  },
  {
   "cell_type": "code",
   "execution_count": 28,
   "id": "65239078",
   "metadata": {},
   "outputs": [],
   "source": [
    "submission = pd.DataFrame({'ImageId': np.arange(1, 28001), 'Label': predictions})\n",
    "submission.to_csv('submission_modelB_tuning.csv', index=False)"
   ]
  },
  {
   "cell_type": "code",
   "execution_count": 141,
   "id": "4706f932",
   "metadata": {},
   "outputs": [],
   "source": [
    "#학습데이터 보충을 위한 데이터 추가 생성\n",
    "#학습 과정 중 완전히 일치하는 동일 데이터를 못보게 하는 원리\n",
    "datagen  = ImageDataGenerator(rotation_range=10,horizontal_flip=True,\n",
    "                             zoom_range = 0.1,\n",
    "                             width_shift_range=0.1,\n",
    "                             height_shift_range=0.1)\n",
    "datagen.fit(train)"
   ]
  },
  {
   "cell_type": "code",
   "execution_count": 142,
   "id": "a3fafd28",
   "metadata": {},
   "outputs": [
    {
     "ename": "AttributeError",
     "evalue": "'ImageDataGenerator' object has no attribute 'fit_generate'",
     "output_type": "error",
     "traceback": [
      "\u001b[1;31m---------------------------------------------------------------------------\u001b[0m",
      "\u001b[1;31mAttributeError\u001b[0m                            Traceback (most recent call last)",
      "\u001b[1;32m~\\AppData\\Local\\Temp/ipykernel_15216/3423974325.py\u001b[0m in \u001b[0;36m<module>\u001b[1;34m\u001b[0m\n\u001b[1;32m----> 1\u001b[1;33m \u001b[0mdatagen\u001b[0m\u001b[1;33m.\u001b[0m\u001b[0mfit_generate\u001b[0m\u001b[1;33m(\u001b[0m\u001b[0mtrain1\u001b[0m\u001b[1;33m)\u001b[0m\u001b[1;33m\u001b[0m\u001b[1;33m\u001b[0m\u001b[0m\n\u001b[0m",
      "\u001b[1;31mAttributeError\u001b[0m: 'ImageDataGenerator' object has no attribute 'fit_generate'"
     ]
    }
   ],
   "source": [
    "datagen.fit_generate(train1)"
   ]
  }
 ],
 "metadata": {
  "kernelspec": {
   "display_name": "Python 3 (ipykernel)",
   "language": "python",
   "name": "python3"
  },
  "language_info": {
   "codemirror_mode": {
    "name": "ipython",
    "version": 3
   },
   "file_extension": ".py",
   "mimetype": "text/x-python",
   "name": "python",
   "nbconvert_exporter": "python",
   "pygments_lexer": "ipython3",
   "version": "3.9.7"
  }
 },
 "nbformat": 4,
 "nbformat_minor": 5
}
